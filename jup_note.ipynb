﻿{
 "cells": [
  {
   "cell_type": "code",
   "execution_count": 11,
   "metadata": {
    "collapsed": true
   },
   "outputs": [],
   "source": [
    "from PopulationEstimator import *"
   ]
  },
  {
   "cell_type": "markdown",
   "metadata": {},
   "source": [
    "Program sprawdza czy dla danych przez użytkownika paramtrów (rok, region) wskazuje czy wartość przypuszczalna,według informacji podanej na stronie, oszacowana w badaniach pokrywa się z własnymi obliczeniami.\n",
    "Funkcja get_population_number zwraca liczbę populacji oszacowaną na dany rok, w danym regionie, dane są pobierane ze strony: https://www.populationpyramid.net/ dla przykładowych danych funkcja zwróci:"
   ]
  },
  {
   "cell_type": "code",
   "execution_count": 24,
   "metadata": {},
   "outputs": [
    {
     "data": {
      "text/plain": [
       "1340103338"
      ]
     },
     "execution_count": 24,
     "metadata": {},
     "output_type": "execute_result"
    }
   ],
   "source": [
    "population_data_receiver.get_population_number(2020, \"africa\")"
   ]
  },
  {
   "cell_type": "code",
   "execution_count": 26,
   "metadata": {},
   "outputs": [
    {
     "data": {
      "text/plain": [
       "11212916100"
      ]
     },
     "execution_count": 26,
     "metadata": {},
     "output_type": "execute_result"
    }
   ],
   "source": [
    "population_data_receiver.get_population_number(2100, \"world\")"
   ]
  },
  {
   "cell_type": "markdown",
   "metadata": {},
   "source": [
    "Kolejnie ze strony Wikipedia pobieramy wartości współczynników urodzeń i zgonów w danych latach, dane wpisujemy w tablicy. Tablice wskazujące na daty i współczynniki przechowywane są w klasie TabulatedData.\n",
    "\n",
    "class TabulatedData:\n",
    "    def __init__(self, dates, values):\n",
    "        self.dates = dates\n",
    "        self.values = values\n",
    "        \n",
    "Z powodu trudności w znalezieniu danych mówiących o współczynnikach, zostały pobrane te, które były dosępne i na ich podstawie wyliczono wzór funkcji. Korzystamy tutaj z biblioteki numpy i funkcji polyfit.\n",
    "\n",
    "def find_function(data):\n",
    "    x = np.array(data.dates)\n",
    "    y = np.array(data.values)\n",
    "    z = np.polyfit(x,y,3)\n",
    "    return np.poly1d(z)\n",
    "    \n",
    "Obiekt data jest instancją klasy TabulatedData. \n",
    "\n",
    "Nstępnie pobieramy obecną wartośc populacji i na podsawie współczynników obliczamy liczbę populacji w danym roku (tzn. od populacji roku poprzedniego odejmujemy liczbę zgonów i dodajemy liczbę urodzeń). Kroki te wykonujemy w pętli. \n",
    "\n",
    "Obliczoną wartośc populacji porównujemy z wartością pobraną ze strony podanej na początku.\n",
    "\n",
    "\n",
    "\n"
   ]
  },
  {
   "cell_type": "code",
   "execution_count": null,
   "metadata": {
    "collapsed": true
   },
   "outputs": [],
   "source": []
  }
 ],
 "metadata": {
  "kernelspec": {
   "display_name": "Python 3",
   "language": "python",
   "name": "python3"
  },
  "language_info": {
   "codemirror_mode": {
    "name": "ipython",
    "version": 3
   },
   "file_extension": ".py",
   "mimetype": "text/x-python",
   "name": "python",
   "nbconvert_exporter": "python",
   "pygments_lexer": "ipython3",
   "version": "3.5.2"
  }
 },
 "nbformat": 4,
 "nbformat_minor": 2
}
